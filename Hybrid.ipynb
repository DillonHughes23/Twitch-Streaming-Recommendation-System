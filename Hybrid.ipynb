{
 "cells": [
  {
   "cell_type": "code",
   "execution_count": 21,
   "metadata": {
    "_cell_guid": "b1076dfc-b9ad-4769-8c92-a6c4dae69d19",
    "_uuid": "8f2839f25d086af736a60e9eeb907d3b93b6e0e5",
    "execution": {
     "iopub.execute_input": "2023-12-08T23:52:06.285313Z",
     "iopub.status.busy": "2023-12-08T23:52:06.284868Z",
     "iopub.status.idle": "2023-12-08T23:52:06.292023Z",
     "shell.execute_reply": "2023-12-08T23:52:06.290864Z",
     "shell.execute_reply.started": "2023-12-08T23:52:06.285277Z"
    }
   },
   "outputs": [],
   "source": [
    "\n",
    "import pandas as pd\n",
    "import numpy as np\n",
    "import matplotlib.pyplot as plt\n",
    "\n",
    "from scipy.sparse import csr_matrix\n",
    "from sklearn.preprocessing import normalize\n",
    "from sklearn.metrics.pairwise import cosine_similarity\n",
    "from scipy.sparse.linalg import svds\n",
    "from sklearn.model_selection import train_test_split\n",
    "from sklearn.metrics import mean_squared_error, mean_absolute_error\n",
    "\n"
   ]
  },
  {
   "cell_type": "code",
   "execution_count": 22,
   "metadata": {
    "execution": {
     "iopub.execute_input": "2023-12-08T23:52:06.420047Z",
     "iopub.status.busy": "2023-12-08T23:52:06.419562Z",
     "iopub.status.idle": "2023-12-08T23:52:08.703044Z",
     "shell.execute_reply": "2023-12-08T23:52:08.701636Z",
     "shell.execute_reply.started": "2023-12-08T23:52:06.420007Z"
    }
   },
   "outputs": [
    {
     "data": {
      "text/html": [
       "<div>\n",
       "<style scoped>\n",
       "    .dataframe tbody tr th:only-of-type {\n",
       "        vertical-align: middle;\n",
       "    }\n",
       "\n",
       "    .dataframe tbody tr th {\n",
       "        vertical-align: top;\n",
       "    }\n",
       "\n",
       "    .dataframe thead th {\n",
       "        text-align: right;\n",
       "    }\n",
       "</style>\n",
       "<table border=\"1\" class=\"dataframe\">\n",
       "  <thead>\n",
       "    <tr style=\"text-align: right;\">\n",
       "      <th></th>\n",
       "      <th>User ID</th>\n",
       "      <th>Stream ID</th>\n",
       "      <th>Streamer Username</th>\n",
       "      <th>Time Start</th>\n",
       "      <th>Time Stop</th>\n",
       "    </tr>\n",
       "  </thead>\n",
       "  <tbody>\n",
       "    <tr>\n",
       "      <th>0</th>\n",
       "      <td>1</td>\n",
       "      <td>33842865744</td>\n",
       "      <td>mithrain</td>\n",
       "      <td>154</td>\n",
       "      <td>156</td>\n",
       "    </tr>\n",
       "    <tr>\n",
       "      <th>1</th>\n",
       "      <td>1</td>\n",
       "      <td>33846768288</td>\n",
       "      <td>alptv</td>\n",
       "      <td>166</td>\n",
       "      <td>169</td>\n",
       "    </tr>\n",
       "    <tr>\n",
       "      <th>2</th>\n",
       "      <td>1</td>\n",
       "      <td>33886469056</td>\n",
       "      <td>mithrain</td>\n",
       "      <td>587</td>\n",
       "      <td>588</td>\n",
       "    </tr>\n",
       "    <tr>\n",
       "      <th>3</th>\n",
       "      <td>1</td>\n",
       "      <td>33887624992</td>\n",
       "      <td>wtcn</td>\n",
       "      <td>589</td>\n",
       "      <td>591</td>\n",
       "    </tr>\n",
       "    <tr>\n",
       "      <th>4</th>\n",
       "      <td>1</td>\n",
       "      <td>33890145056</td>\n",
       "      <td>jrokezftw</td>\n",
       "      <td>591</td>\n",
       "      <td>594</td>\n",
       "    </tr>\n",
       "  </tbody>\n",
       "</table>\n",
       "</div>"
      ],
      "text/plain": [
       "   User ID    Stream ID Streamer Username  Time Start  Time Stop\n",
       "0        1  33842865744          mithrain         154        156\n",
       "1        1  33846768288             alptv         166        169\n",
       "2        1  33886469056          mithrain         587        588\n",
       "3        1  33887624992              wtcn         589        591\n",
       "4        1  33890145056         jrokezftw         591        594"
      ]
     },
     "execution_count": 22,
     "metadata": {},
     "output_type": "execute_result"
    }
   ],
   "source": [
    "\n",
    "# Load the data\n",
    "data = pd.read_csv('100k_a.csv', header=None)\n",
    "data.columns = ['User ID', 'Stream ID', 'Streamer Username', 'Time Start', 'Time Stop']\n",
    "data.head()\n"
   ]
  },
  {
   "cell_type": "code",
   "execution_count": 23,
   "metadata": {
    "execution": {
     "iopub.execute_input": "2023-12-08T23:52:08.705826Z",
     "iopub.status.busy": "2023-12-08T23:52:08.705466Z",
     "iopub.status.idle": "2023-12-08T23:52:10.247672Z",
     "shell.execute_reply": "2023-12-08T23:52:10.246567Z",
     "shell.execute_reply.started": "2023-12-08T23:52:08.705784Z"
    }
   },
   "outputs": [],
   "source": [
    "\n",
    "# Calculate Watch Duration\n",
    "data['Watch Duration'] = (data['Time Stop'] - data['Time Start']) * 10\n",
    "grouped_data = data.groupby(['User ID', 'Streamer Username'])['Watch Duration'].sum().reset_index()\n"
   ]
  },
  {
   "cell_type": "code",
   "execution_count": 24,
   "metadata": {
    "execution": {
     "iopub.execute_input": "2023-12-08T23:52:10.249839Z",
     "iopub.status.busy": "2023-12-08T23:52:10.249167Z",
     "iopub.status.idle": "2023-12-08T23:52:10.749098Z",
     "shell.execute_reply": "2023-12-08T23:52:10.747914Z",
     "shell.execute_reply.started": "2023-12-08T23:52:10.249796Z"
    }
   },
   "outputs": [],
   "source": [
    "\n",
    "# Split data into training and test sets\n",
    "train_data, test_data = train_test_split(grouped_data, test_size=0.2, random_state=42)\n"
   ]
  },
  {
   "cell_type": "code",
   "execution_count": 25,
   "metadata": {
    "execution": {
     "iopub.execute_input": "2023-12-08T23:52:10.750696Z",
     "iopub.status.busy": "2023-12-08T23:52:10.750379Z",
     "iopub.status.idle": "2023-12-08T23:52:11.614457Z",
     "shell.execute_reply": "2023-12-08T23:52:11.613116Z",
     "shell.execute_reply.started": "2023-12-08T23:52:10.750669Z"
    }
   },
   "outputs": [],
   "source": [
    "\n",
    "# Convert 'User ID' and 'Streamer Username' to categorical types\n",
    "train_data['User ID'] = train_data['User ID'].astype('category')\n",
    "train_data['Streamer Username'] = train_data['Streamer Username'].astype('category')\n",
    "test_data['User ID'] = pd.Categorical(test_data['User ID'], categories=train_data['User ID'].cat.categories)\n"
   ]
  },
  {
   "cell_type": "code",
   "execution_count": 26,
   "metadata": {
    "execution": {
     "iopub.execute_input": "2023-12-08T23:52:11.618414Z",
     "iopub.status.busy": "2023-12-08T23:52:11.617701Z",
     "iopub.status.idle": "2023-12-08T23:52:11.730913Z",
     "shell.execute_reply": "2023-12-08T23:52:11.729894Z",
     "shell.execute_reply.started": "2023-12-08T23:52:11.618370Z"
    }
   },
   "outputs": [],
   "source": [
    "\n",
    "# Create sparse matrix for training data\n",
    "sparse_matrix_train = csr_matrix((train_data['Watch Duration'], \n",
    "                                  (train_data['User ID'].cat.codes, \n",
    "                                   train_data['Streamer Username'].cat.codes)))\n"
   ]
  },
  {
   "cell_type": "code",
   "execution_count": 27,
   "metadata": {
    "execution": {
     "iopub.execute_input": "2023-12-08T23:52:11.732922Z",
     "iopub.status.busy": "2023-12-08T23:52:11.732536Z",
     "iopub.status.idle": "2023-12-08T23:52:11.757239Z",
     "shell.execute_reply": "2023-12-08T23:52:11.756084Z",
     "shell.execute_reply.started": "2023-12-08T23:52:11.732886Z"
    }
   },
   "outputs": [],
   "source": [
    "\n",
    "normalized_sparse_matrix_train = normalize(sparse_matrix_train, norm='l2', axis=1)\n"
   ]
  },
  {
   "cell_type": "code",
   "execution_count": 28,
   "metadata": {
    "execution": {
     "iopub.execute_input": "2023-12-08T23:52:11.759033Z",
     "iopub.status.busy": "2023-12-08T23:52:11.758668Z",
     "iopub.status.idle": "2023-12-08T23:52:36.857091Z",
     "shell.execute_reply": "2023-12-08T23:52:36.855732Z",
     "shell.execute_reply.started": "2023-12-08T23:52:11.758998Z"
    }
   },
   "outputs": [],
   "source": [
    "\n",
    "# Compute similarity matrix for content-based filtering\n",
    "similarity_matrix_train = cosine_similarity(normalized_sparse_matrix_train, dense_output=False)\n"
   ]
  },
  {
   "cell_type": "code",
   "execution_count": 29,
   "metadata": {
    "execution": {
     "iopub.execute_input": "2023-12-08T23:52:36.860220Z",
     "iopub.status.busy": "2023-12-08T23:52:36.858717Z",
     "iopub.status.idle": "2023-12-08T23:53:02.304445Z",
     "shell.execute_reply": "2023-12-08T23:53:02.299322Z",
     "shell.execute_reply.started": "2023-12-08T23:52:36.860163Z"
    }
   },
   "outputs": [],
   "source": [
    "\n",
    "# Decompose the sparse matrix using SVD\n",
    "U, sigma, Vt = svds(normalized_sparse_matrix_train, k=70)  # Adjust k as needed\n",
    "sigma = np.diag(sigma)\n"
   ]
  },
  {
   "cell_type": "code",
   "execution_count": 30,
   "metadata": {
    "execution": {
     "iopub.execute_input": "2023-12-08T23:53:02.311592Z",
     "iopub.status.busy": "2023-12-08T23:53:02.310458Z",
     "iopub.status.idle": "2023-12-08T23:53:02.330996Z",
     "shell.execute_reply": "2023-12-08T23:53:02.328184Z",
     "shell.execute_reply.started": "2023-12-08T23:53:02.311476Z"
    }
   },
   "outputs": [],
   "source": [
    "\n",
    "def collaborative_filtering(user_id, U, sigma, Vt, user_id_categories):\n",
    "    if user_id not in user_id_categories:\n",
    "        return \"User ID not found.\"\n",
    "    \n",
    "    user_idx = user_id_categories.get_loc(user_id)\n",
    "    user_ratings = np.dot(np.dot(U[user_idx, :], sigma), Vt)\n",
    "    sorted_ratings_idx = np.argsort(-user_ratings)\n",
    "    sorted_ratings = user_ratings[sorted_ratings_idx]\n",
    "\n",
    "    streamer_usernames = train_data['Streamer Username'].cat.categories[sorted_ratings_idx]\n",
    "\n",
    "    recommendations = list(zip(streamer_usernames, sorted_ratings))\n",
    "    return recommendations[:5]\n"
   ]
  },
  {
   "cell_type": "code",
   "execution_count": 31,
   "metadata": {
    "execution": {
     "iopub.execute_input": "2023-12-08T23:53:02.336804Z",
     "iopub.status.busy": "2023-12-08T23:53:02.335290Z",
     "iopub.status.idle": "2023-12-08T23:53:02.356730Z",
     "shell.execute_reply": "2023-12-08T23:53:02.353546Z",
     "shell.execute_reply.started": "2023-12-08T23:53:02.336596Z"
    }
   },
   "outputs": [],
   "source": [
    "\n",
    "def content_based_filtering(user_id, similarity_matrix, user_id_categories, top_n=5):\n",
    "    if user_id not in user_id_categories:\n",
    "        return \"User ID not found.\"\n",
    "    \n",
    "    user_idx = user_id_categories.get_loc(user_id)\n",
    "    user_similarity_scores = similarity_matrix[user_idx].toarray().flatten()\n",
    "    sorted_indices = user_similarity_scores.argsort()[::-1]\n",
    "    \n",
    "    top_similar_users_indices = sorted_indices[:top_n]\n",
    "    top_similar_users = user_id_categories[top_similar_users_indices]\n",
    "    top_similarity_scores = user_similarity_scores[top_similar_users_indices]\n",
    "    streamer_usernames = train_data['Streamer Username'].cat.categories[top_similar_users_indices]\n",
    "    \n",
    "    recommendations_with_scores = list(zip(streamer_usernames, top_similarity_scores))\n",
    "    return recommendations_with_scores\n"
   ]
  },
  {
   "cell_type": "code",
   "execution_count": 32,
   "metadata": {
    "execution": {
     "iopub.execute_input": "2023-12-08T23:53:02.366934Z",
     "iopub.status.busy": "2023-12-08T23:53:02.365185Z",
     "iopub.status.idle": "2023-12-08T23:53:02.408322Z",
     "shell.execute_reply": "2023-12-08T23:53:02.404183Z",
     "shell.execute_reply.started": "2023-12-08T23:53:02.366685Z"
    }
   },
   "outputs": [],
   "source": [
    "\n",
    "def hybrid_recommendation(user_id, U, sigma, Vt, similarity_matrix, user_id_categories, alpha=0.5):\n",
    "    content_based_recs = content_based_filtering(user_id, similarity_matrix, user_id_categories)\n",
    "    collaborative_recs = collaborative_filtering(user_id, U, sigma, Vt, user_id_categories)\n",
    "\n",
    "    if isinstance(content_based_recs, str):\n",
    "        content_based_recs = []\n",
    "    if isinstance(collaborative_recs, str):\n",
    "        collaborative_recs = []\n",
    "\n",
    "    hybrid_scores = {}\n",
    "    for streamer, score in content_based_recs:\n",
    "        hybrid_scores[streamer] = score * alpha\n",
    "\n",
    "    for streamer, score in collaborative_recs:\n",
    "        hybrid_scores[streamer] = hybrid_scores.get(streamer, 0) + score * (1 - alpha)\n",
    "\n",
    "    sorted_hybrid_recs = sorted(hybrid_scores.items(), key=lambda x: x[1], reverse=True)\n",
    "    return sorted_hybrid_recs[:5]\n"
   ]
  },
  {
   "cell_type": "code",
   "execution_count": 33,
   "metadata": {
    "execution": {
     "iopub.execute_input": "2023-12-08T23:53:02.420340Z",
     "iopub.status.busy": "2023-12-08T23:53:02.415915Z",
     "iopub.status.idle": "2023-12-08T23:53:02.446013Z",
     "shell.execute_reply": "2023-12-08T23:53:02.443217Z",
     "shell.execute_reply.started": "2023-12-08T23:53:02.420028Z"
    }
   },
   "outputs": [],
   "source": [
    "\n",
    "# Function to predict watch duration\n",
    "def predict_watch_duration(user_id, streamer_username, U, sigma, Vt, user_id_categories, streamer_username_categories):\n",
    "    try:\n",
    "        user_idx = user_id_categories.get_loc(user_id)\n",
    "        streamer_idx = streamer_username_categories.get_loc(streamer_username)\n",
    "\n",
    "        user_features = U[user_idx, :]\n",
    "        streamer_features = Vt[:, streamer_idx]\n",
    "\n",
    "        predicted_watch_duration = np.dot(np.dot(user_features, sigma), streamer_features)\n",
    "        return predicted_watch_duration\n",
    "    except KeyError:\n",
    "        return 0 \n"
   ]
  },
  {
   "cell_type": "code",
   "execution_count": 34,
   "metadata": {
    "execution": {
     "iopub.execute_input": "2023-12-08T23:53:02.452810Z",
     "iopub.status.busy": "2023-12-08T23:53:02.450151Z",
     "iopub.status.idle": "2023-12-08T23:53:02.476111Z",
     "shell.execute_reply": "2023-12-08T23:53:02.471190Z",
     "shell.execute_reply.started": "2023-12-08T23:53:02.452694Z"
    }
   },
   "outputs": [],
   "source": [
    "def calculate_rmse_mae(test_data, U, sigma, Vt, user_id_categories, streamer_username_categories):\n",
    "    y_true = []\n",
    "    y_pred = []\n",
    "\n",
    "    for _, row in test_data.iterrows():\n",
    "        user_id = row['User ID']\n",
    "        streamer_username = row['Streamer Username']\n",
    "        actual_watch_duration = row['Watch Duration']\n",
    "        predicted_watch_duration = predict_watch_duration(user_id, streamer_username, U, sigma, Vt, user_id_categories, streamer_username_categories)\n",
    "\n",
    "        y_true.append(actual_watch_duration)\n",
    "        y_pred.append(predicted_watch_duration)\n",
    "\n",
    "    rmse = np.sqrt(mean_squared_error(y_true, y_pred))\n",
    "    mae = mean_absolute_error(y_true, y_pred)\n",
    "\n",
    "    return rmse, mae\n"
   ]
  },
  {
   "cell_type": "code",
   "execution_count": 35,
   "metadata": {
    "execution": {
     "iopub.execute_input": "2023-12-08T23:53:02.491685Z",
     "iopub.status.busy": "2023-12-08T23:53:02.489770Z",
     "iopub.status.idle": "2023-12-08T23:53:32.801416Z",
     "shell.execute_reply": "2023-12-08T23:53:32.799884Z",
     "shell.execute_reply.started": "2023-12-08T23:53:02.491642Z"
    }
   },
   "outputs": [
    {
     "name": "stdout",
     "output_type": "stream",
     "text": [
      "RMSE: 147.46041051278036\n",
      "MAE: 64.00306111207044\n"
     ]
    }
   ],
   "source": [
    "# Calculate RMSE and MAE for the test data\n",
    "rmse, mae = calculate_rmse_mae(test_data, U, sigma, Vt, train_data['User ID'].cat.categories, train_data['Streamer Username'].cat.categories)\n",
    "\n",
    "print(f\"RMSE: {rmse}\")\n",
    "print(f\"MAE: {mae}\")"
   ]
  },
  {
   "cell_type": "code",
   "execution_count": 36,
   "metadata": {
    "execution": {
     "iopub.execute_input": "2023-12-08T23:53:32.803544Z",
     "iopub.status.busy": "2023-12-08T23:53:32.803132Z",
     "iopub.status.idle": "2023-12-08T23:53:36.665826Z",
     "shell.execute_reply": "2023-12-08T23:53:36.664364Z",
     "shell.execute_reply.started": "2023-12-08T23:53:32.803510Z"
    }
   },
   "outputs": [
    {
     "name": "stdout",
     "output_type": "stream",
     "text": [
      "Hybrid Recommendations for User ID 45683:\n",
      "goingoutgunning: 0.50\n",
      "boys4jesusalfa: 0.45\n",
      "martial_fitness: 0.43\n",
      "g0attrs: 0.42\n",
      "fusionstarforce: 0.42\n",
      "\n",
      "\n",
      "Collaborative Filtering Recommendations for User ID 45683:\n",
      "nl_kripp: 0.17\n",
      "thijs: 0.16\n",
      "playhearthstone: 0.12\n",
      "dogdog: 0.06\n",
      "asmodaitv: 0.05\n",
      "\n",
      "\n",
      "Content-Based Filtering Recommendations for User ID 45683:\n",
      "goingoutgunning: 1.00\n",
      "boys4jesusalfa: 0.90\n",
      "martial_fitness: 0.86\n",
      "g0attrs: 0.84\n",
      "fusionstarforce: 0.84\n",
      "\n",
      "\n",
      "Hybrid Recommendations for User ID 91831:\n",
      "ohirun: 0.50\n",
      "littlepixelsyt: 0.45\n",
      "alice_de_dark: 0.45\n",
      "archonthewizard: 0.44\n",
      "crusherfp: 0.44\n",
      "\n",
      "\n",
      "Collaborative Filtering Recommendations for User ID 91831:\n",
      "faker: 0.23\n",
      "toyzttv: 0.21\n",
      "garenatw: 0.21\n",
      "godjj: 0.15\n",
      "asiagodtonegg3be0: 0.14\n",
      "\n",
      "\n",
      "Content-Based Filtering Recommendations for User ID 91831:\n",
      "ohirun: 1.00\n",
      "littlepixelsyt: 0.89\n",
      "alice_de_dark: 0.89\n",
      "archonthewizard: 0.89\n",
      "crusherfp: 0.88\n",
      "\n",
      "\n",
      "Hybrid Recommendations for User ID 48942:\n",
      "haywyre: 0.50\n",
      "nohandde: 0.31\n",
      "allakazzaror: 0.29\n",
      "ilprincipeciro: 0.29\n",
      "cmpuls3: 0.28\n",
      "\n",
      "\n",
      "Collaborative Filtering Recommendations for User ID 48942:\n",
      "solaryfortnite: 0.50\n",
      "gotaga: 0.23\n",
      "xewer: 0.05\n",
      "mickalow: 0.04\n",
      "ninja: 0.04\n",
      "\n",
      "\n",
      "Content-Based Filtering Recommendations for User ID 48942:\n",
      "haywyre: 1.00\n",
      "nohandde: 0.61\n",
      "allakazzaror: 0.59\n",
      "ilprincipeciro: 0.57\n",
      "cmpuls3: 0.57\n",
      "\n",
      "\n",
      "Hybrid Recommendations for User ID 99650:\n",
      "pullingamikej: 0.50\n",
      "el_hasanm1998: 0.26\n",
      "jompytv: 0.25\n",
      "1743528: 0.25\n",
      "nojennyno: 0.25\n",
      "\n",
      "\n",
      "Collaborative Filtering Recommendations for User ID 99650:\n",
      "esl_csgo: 0.48\n",
      "tfblade: 0.27\n",
      "riotgames: 0.17\n",
      "yassuo: 0.11\n",
      "dreamhackcs: 0.08\n",
      "\n",
      "\n",
      "Content-Based Filtering Recommendations for User ID 99650:\n",
      "pullingamikej: 1.00\n",
      "el_hasanm1998: 0.53\n",
      "jompytv: 0.51\n",
      "1743528: 0.51\n",
      "nojennyno: 0.50\n",
      "\n",
      "\n",
      "Hybrid Recommendations for User ID 16909:\n",
      "burst_error: 0.50\n",
      "brak2k: 0.44\n",
      "nelinpeli: 0.41\n",
      "dunnderducky: 0.41\n",
      "jork_: 0.40\n",
      "\n",
      "\n",
      "Collaborative Filtering Recommendations for User ID 16909:\n",
      "gaules: 0.00\n",
      "faceittv: 0.00\n",
      "esl_brazil: 0.00\n",
      "alanzoka: 0.00\n",
      "tfblade: 0.00\n",
      "\n",
      "\n",
      "Content-Based Filtering Recommendations for User ID 16909:\n",
      "burst_error: 1.00\n",
      "brak2k: 0.89\n",
      "nelinpeli: 0.83\n",
      "dunnderducky: 0.83\n",
      "jork_: 0.79\n",
      "\n",
      "\n",
      "Hybrid Recommendations for User ID 36995:\n",
      "exeq7or: 0.50\n",
      "denchy: 0.33\n",
      "dr_raichi: 0.31\n",
      "mrfreeze_guy: 0.30\n",
      "jeffzim: 0.30\n",
      "\n",
      "\n",
      "Collaborative Filtering Recommendations for User ID 36995:\n",
      "dakotaz: 0.52\n",
      "ninja: 0.06\n",
      "mrsavage: 0.04\n",
      "sypherpk: 0.04\n",
      "chap: 0.04\n",
      "\n",
      "\n",
      "Content-Based Filtering Recommendations for User ID 36995:\n",
      "exeq7or: 1.00\n",
      "denchy: 0.65\n",
      "dr_raichi: 0.63\n",
      "mrfreeze_guy: 0.60\n",
      "jeffzim: 0.60\n",
      "\n",
      "\n",
      "Hybrid Recommendations for User ID 35010:\n",
      "emigiercuje: 0.50\n",
      "chucheika: 0.36\n",
      "misarian: 0.33\n",
      "komakino0131: 0.32\n",
      "combat_cypress: 0.30\n",
      "\n",
      "\n",
      "Collaborative Filtering Recommendations for User ID 35010:\n",
      "asmongold: 0.41\n",
      "sodapoppin: 0.11\n",
      "shroud: 0.11\n",
      "moonmoon_ow: 0.10\n",
      "lord_kebun: 0.06\n",
      "\n",
      "\n",
      "Content-Based Filtering Recommendations for User ID 35010:\n",
      "emigiercuje: 1.00\n",
      "chucheika: 0.72\n",
      "misarian: 0.66\n",
      "komakino0131: 0.64\n",
      "combat_cypress: 0.61\n",
      "\n",
      "\n",
      "Hybrid Recommendations for User ID 75136:\n",
      "maaarcio: 0.50\n",
      "pink: 0.31\n",
      "cholette: 0.31\n",
      "nbaporramonrv: 0.30\n",
      "hideki1988: 0.30\n",
      "\n",
      "\n",
      "Collaborative Filtering Recommendations for User ID 75136:\n",
      "riotgames: 0.53\n",
      "faker: 0.09\n",
      "lol_ambition: 0.08\n",
      "lck_korea: 0.07\n",
      "nightblue3: 0.04\n",
      "\n",
      "\n",
      "Content-Based Filtering Recommendations for User ID 75136:\n",
      "maaarcio: 1.00\n",
      "pink: 0.62\n",
      "cholette: 0.61\n",
      "nbaporramonrv: 0.61\n",
      "hideki1988: 0.59\n",
      "\n",
      "\n",
      "Hybrid Recommendations for User ID 32105:\n",
      "drgluon: 0.50\n",
      "pejtn: 0.33\n",
      "cupahnoodle: 0.33\n",
      "barbierir6: 0.33\n",
      "eggyolk47: 0.33\n",
      "\n",
      "\n",
      "Collaborative Filtering Recommendations for User ID 32105:\n",
      "sodapoppin: 0.53\n",
      "asmongold: 0.33\n",
      "overwatchleague: 0.25\n",
      "timthetatman: 0.24\n",
      "dreamhackcs: 0.21\n",
      "\n",
      "\n",
      "Content-Based Filtering Recommendations for User ID 32105:\n",
      "drgluon: 1.00\n",
      "pejtn: 0.67\n",
      "cupahnoodle: 0.66\n",
      "barbierir6: 0.65\n",
      "eggyolk47: 0.65\n",
      "\n",
      "\n",
      "Hybrid Recommendations for User ID 44600:\n",
      "ghosty0228: 0.50\n",
      "channelfore: 0.31\n",
      "coyote_ths: 0.30\n",
      "nevertx: 0.30\n",
      "dreamconvention: 0.29\n",
      "\n",
      "\n",
      "Collaborative Filtering Recommendations for User ID 44600:\n",
      "mrsavage: 0.07\n",
      "chap: 0.06\n",
      "mongraal: 0.04\n",
      "kamolrf: 0.04\n",
      "mckytv: 0.03\n",
      "\n",
      "\n",
      "Content-Based Filtering Recommendations for User ID 44600:\n",
      "ghosty0228: 1.00\n",
      "channelfore: 0.62\n",
      "coyote_ths: 0.59\n",
      "nevertx: 0.59\n",
      "dreamconvention: 0.59\n",
      "\n",
      "\n",
      "Total Hybrid Similarity Distance Score: 18.64\n",
      "Total Collaborative Filtering Similarity Distance Score: 7.56\n",
      "Total Content-Based Filtering Similarity Distance Score: 37.29\n"
     ]
    }
   ],
   "source": [
    "# Testing the model with a subset of user IDs\n",
    "first_ten_user_ids = test_data['User ID'].unique()[:10]\n",
    "\n",
    "Hybrid_total_score = 0\n",
    "Collab_total_score = 0\n",
    "content_total_score = 0\n",
    "\n",
    "for user_id in first_ten_user_ids:\n",
    "    # Hybrid Recommendations\n",
    "    recommendations = hybrid_recommendation(user_id, U, sigma, Vt, similarity_matrix_train, train_data['User ID'].cat.categories)\n",
    "    print(f\"Hybrid Recommendations for User ID {user_id}:\")\n",
    "    for streamer, score in recommendations:\n",
    "        print(f\"{streamer}: {score:.2f}\")\n",
    "        Hybrid_total_score += score\n",
    "    print(\"\\n\")\n",
    "\n",
    "    # Collaborative Filtering Recommendations\n",
    "    recommendations = collaborative_filtering(user_id, U, sigma, Vt, train_data['User ID'].cat.categories)\n",
    "    print(f\"Collaborative Filtering Recommendations for User ID {user_id}:\")\n",
    "    for streamer, score in recommendations:\n",
    "        print(f\"{streamer}: {score:.2f}\")\n",
    "        Collab_total_score += score\n",
    "    print(\"\\n\")\n",
    "\n",
    "    # Content-Based Filtering Recommendations\n",
    "    recommendations = content_based_filtering(user_id, similarity_matrix_train, train_data['User ID'].cat.categories)\n",
    "    print(f\"Content-Based Filtering Recommendations for User ID {user_id}:\")\n",
    "    for streamer, score in recommendations:\n",
    "        print(f\"{streamer}: {score:.2f}\")\n",
    "        content_total_score += score\n",
    "    print(\"\\n\")\n",
    "\n",
    "print(f\"Total Hybrid Similarity Distance Score: {Hybrid_total_score:.2f}\")\n",
    "print(f\"Total Collaborative Filtering Similarity Distance Score: {Collab_total_score:.2f}\")\n",
    "print(f\"Total Content-Based Filtering Similarity Distance Score: {content_total_score:.2f}\")\n"
   ]
  },
  {
   "cell_type": "code",
   "execution_count": 37,
   "metadata": {
    "execution": {
     "iopub.execute_input": "2023-12-08T23:53:36.667653Z",
     "iopub.status.busy": "2023-12-08T23:53:36.667323Z",
     "iopub.status.idle": "2023-12-08T23:53:36.677300Z",
     "shell.execute_reply": "2023-12-08T23:53:36.675618Z",
     "shell.execute_reply.started": "2023-12-08T23:53:36.667624Z"
    }
   },
   "outputs": [],
   "source": [
    "def calculate_precision_recall(test_set, recommendations, k):\n",
    "    precisions = []\n",
    "    recalls = []\n",
    "\n",
    "    for user_id, true_items in test_set.items():\n",
    "        if user_id in recommendations:\n",
    "            rec_items = recommendations[user_id][:k]\n",
    "            true_positives = len(set(rec_items) & set(true_items))\n",
    "            precision = true_positives / len(rec_items) if rec_items else 0\n",
    "            recall = true_positives / len(true_items) if true_items else 0\n",
    "            \n",
    "            precisions.append(precision)\n",
    "            recalls.append(recall)\n",
    "\n",
    "    average_precision = sum(precisions) / len(precisions) if precisions else 0\n",
    "    average_recall = sum(recalls) / len(recalls) if recalls else 0\n",
    "\n",
    "    return average_precision, average_recall\n"
   ]
  },
  {
   "cell_type": "code",
   "execution_count": 38,
   "metadata": {
    "execution": {
     "iopub.execute_input": "2023-12-08T23:53:36.679056Z",
     "iopub.status.busy": "2023-12-08T23:53:36.678725Z",
     "iopub.status.idle": "2023-12-08T23:53:36.692832Z",
     "shell.execute_reply": "2023-12-08T23:53:36.691562Z",
     "shell.execute_reply.started": "2023-12-08T23:53:36.679028Z"
    }
   },
   "outputs": [
    {
     "name": "stdout",
     "output_type": "stream",
     "text": [
      "Precision: 0.0000, Recall: 0.0000\n"
     ]
    }
   ],
   "source": [
    "precision, recall = calculate_precision_recall(test_data, recommendations, k=5)\n",
    "print(f\"Precision: {precision:.4f}, Recall: {recall:.4f}\")"
   ]
  },
  {
   "cell_type": "code",
   "execution_count": null,
   "metadata": {},
   "outputs": [],
   "source": []
  },
  {
   "cell_type": "code",
   "execution_count": null,
   "metadata": {},
   "outputs": [],
   "source": []
  },
  {
   "cell_type": "code",
   "execution_count": null,
   "metadata": {},
   "outputs": [],
   "source": []
  },
  {
   "cell_type": "code",
   "execution_count": null,
   "metadata": {},
   "outputs": [],
   "source": []
  },
  {
   "cell_type": "code",
   "execution_count": null,
   "metadata": {},
   "outputs": [],
   "source": []
  },
  {
   "cell_type": "code",
   "execution_count": 39,
   "metadata": {
    "execution": {
     "iopub.execute_input": "2023-12-08T23:53:36.694222Z",
     "iopub.status.busy": "2023-12-08T23:53:36.693873Z",
     "iopub.status.idle": "2023-12-08T23:53:37.151295Z",
     "shell.execute_reply": "2023-12-08T23:53:37.149840Z",
     "shell.execute_reply.started": "2023-12-08T23:53:36.694193Z"
    }
   },
   "outputs": [
    {
     "data": {
      "image/png": "[encoded data removed]",
      "text/plain": [
       "<Figure size 1000x600 with 1 Axes>"
      ]
     },
     "metadata": {},
     "output_type": "display_data"
    }
   ],
   "source": [
    "\n",
    "user_activity = data.groupby('User ID')['Stream ID'].count()\n",
    "\n",
    "plt.figure(figsize=(10, 6))\n",
    "user_activity.plot(kind='hist', bins=30, color='skyblue')\n",
    "plt.title('User Activity Distribution')\n",
    "plt.xlabel('Number of Streams Watched')\n",
    "plt.ylabel('Number of Users')\n",
    "plt.show()\n"
   ]
  },
  {
   "cell_type": "code",
   "execution_count": 40,
   "metadata": {
    "execution": {
     "iopub.execute_input": "2023-12-08T23:53:37.157557Z",
     "iopub.status.busy": "2023-12-08T23:53:37.153186Z",
     "iopub.status.idle": "2023-12-08T23:53:38.271496Z",
     "shell.execute_reply": "2023-12-08T23:53:38.270419Z",
     "shell.execute_reply.started": "2023-12-08T23:53:37.157497Z"
    }
   },
   "outputs": [
    {
     "data": {
      "image/png": "[encoded data removed]",
      "text/plain": [
       "<Figure size 1200x600 with 1 Axes>"
      ]
     },
     "metadata": {},
     "output_type": "display_data"
    }
   ],
   "source": [
    "streamer_popularity = data.groupby('Streamer Username')['Watch Duration'].sum().sort_values(ascending=False).head(10)\n",
    "\n",
    "plt.figure(figsize=(12, 6))\n",
    "streamer_popularity.plot(kind='bar', color='purple')\n",
    "plt.title('Top 10 Popular Streamers by Watch Duration')\n",
    "plt.xlabel('Streamer Username')\n",
    "plt.ylabel('Total Watch Duration')\n",
    "plt.xticks(rotation=45)\n",
    "plt.show()\n"
   ]
  },
  {
   "cell_type": "code",
   "execution_count": 41,
   "metadata": {
    "execution": {
     "iopub.execute_input": "2023-12-08T23:53:38.273877Z",
     "iopub.status.busy": "2023-12-08T23:53:38.273213Z",
     "iopub.status.idle": "2023-12-08T23:53:39.013260Z",
     "shell.execute_reply": "2023-12-08T23:53:39.012153Z",
     "shell.execute_reply.started": "2023-12-08T23:53:38.273831Z"
    }
   },
   "outputs": [
    {
     "data": {
      "image/png": "[encoded data removed]",
      "text/plain": [
       "<Figure size 1000x600 with 1 Axes>"
      ]
     },
     "metadata": {},
     "output_type": "display_data"
    }
   ],
   "source": [
    "plt.figure(figsize=(10, 6))\n",
    "plt.boxplot(data['Watch Duration'], vert=False)\n",
    "plt.title('Watch Duration Distribution')\n",
    "plt.xlabel('Watch Duration')\n",
    "plt.show()\n"
   ]
  },
  {
   "cell_type": "code",
   "execution_count": null,
   "metadata": {},
   "outputs": [],
   "source": []
  },
  {
   "cell_type": "code",
   "execution_count": null,
   "metadata": {},
   "outputs": [],
   "source": []
  },
  {
   "cell_type": "code",
   "execution_count": null,
   "metadata": {},
   "outputs": [],
   "source": []
  },
  {
   "cell_type": "code",
   "execution_count": null,
   "metadata": {},
   "outputs": [],
   "source": []
  }
 ],
 "metadata": {
  "kaggle": {
   "accelerator": "none",
   "dataSources": [
    {
     "datasetId": 3686349,
     "sourceId": 6394605,
     "sourceType": "datasetVersion"
    }
   ],
   "dockerImageVersionId": 30587,
   "isGpuEnabled": false,
   "isInternetEnabled": false,
   "language": "python",
   "sourceType": "notebook"
  },
  "kernelspec": {
   "display_name": "Python 3 (ipykernel)",
   "language": "python",
   "name": "python3"
  },
  "language_info": {
   "codemirror_mode": {
    "name": "ipython",
    "version": 3
   },
   "file_extension": ".py",
   "mimetype": "text/x-python",
   "name": "python",
   "nbconvert_exporter": "python",
   "pygments_lexer": "ipython3",
   "version": "3.10.12"
  }
 },
 "nbformat": 4,
 "nbformat_minor": 4
}
